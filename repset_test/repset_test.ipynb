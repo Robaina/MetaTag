{
 "cells": [
  {
   "cell_type": "code",
   "execution_count": 6,
   "metadata": {},
   "outputs": [
    {
     "name": "stdout",
     "output_type": "stream",
     "text": [
      "Gurobi Optimizer version 9.1.1 build v9.1.1rc0 (linux64)\n",
      "Thread count: 4 physical cores, 8 logical processors, using up to 8 threads\n",
      "Optimize a model with 9901 rows, 5050 columns and 29800 nonzeros\n",
      "Model fingerprint: 0x3aff5fa9\n",
      "Variable types: 0 continuous, 5050 integer (5050 binary)\n",
      "Coefficient statistics:\n",
      "  Matrix range     [1e+00, 2e+00]\n",
      "  Objective range  [1e-03, 1e+02]\n",
      "  Bounds range     [1e+00, 1e+00]\n",
      "  RHS range        [1e+00, 5e+00]\n",
      "Found heuristic solution: objective 461.0116363\n",
      "Presolve time: 0.05s\n",
      "Presolved: 9901 rows, 5050 columns, 29800 nonzeros\n",
      "Variable types: 0 continuous, 5050 integer (5050 binary)\n",
      "\n",
      "Root relaxation: objective 0.000000e+00, 14 iterations, 0.01 seconds\n",
      "\n",
      "    Nodes    |    Current Node    |     Objective Bounds      |     Work\n",
      " Expl Unexpl |  Obj  Depth IntInf | Incumbent    BestBd   Gap | It/Node Time\n",
      "\n",
      "     0     0    0.00000    0   10  461.01164    0.00000   100%     -    0s\n",
      "H    0     0                     320.9531633    0.00000   100%     -    0s\n",
      "H    0     0                     195.2813227    0.00000   100%     -    0s\n",
      "H    0     0                     185.2158379    0.00000   100%     -    0s\n",
      "H    0     0                     163.0562215    0.00000   100%     -    0s\n",
      "     0     0    0.00000    0   10  163.05622    0.00000   100%     -    0s\n",
      "H    0     0                     158.4328790    0.00000   100%     -    0s\n",
      "     0     0    0.00000    0   10  158.43288    0.00000   100%     -    0s\n",
      "     0     0    0.00000    0   10  158.43288    0.00000   100%     -    0s\n",
      "     0     0    0.00000    0   10  158.43288    0.00000   100%     -    1s\n",
      "     0     2    0.00000    0   10  158.43288    0.00000   100%     -    1s\n",
      "H   37    30                     140.6106677    0.00000   100%  58.5    2s\n",
      "H   38    30                     137.9244813    0.00000   100%  59.5    2s\n",
      "H  101    66                     112.2165578    0.00000   100%  33.0    3s\n",
      "   360   141    6.29351   77   35  112.21656    0.00000   100%  19.5    5s\n",
      "H 1419   279                     102.5527211    0.00000   100%  18.1    9s\n",
      "  1509   286     cutoff   33       102.55272    4.58064  95.5%  18.9   10s\n",
      "* 1613   236               6      79.4230843    6.14717  92.3%  19.7   10s\n",
      "* 2023   141               8      77.6063744   30.76331  60.4%  19.5   11s\n",
      "\n",
      "Cutting planes:\n",
      "  Cover: 4\n",
      "  RLT: 31\n",
      "\n",
      "Explored 2282 nodes (44548 simplex iterations) in 11.66 seconds\n",
      "Thread count was 8 (of 8 available processors)\n",
      "\n",
      "Solution count 10: 77.6064 79.4231 102.553 ... 195.281\n",
      "\n",
      "Optimal solution found (tolerance 1.00e-04)\n",
      "Best objective 7.760637441144e+01, best bound 7.760637441144e+01, gap 0.0000%\n"
     ]
    }
   ],
   "source": [
    "from itertools import combinations \n",
    "\n",
    "import numpy as np\n",
    "import gurobipy as gp\n",
    "from gurobipy import GRB, quicksum\n",
    "\n",
    "n_nodes = 100\n",
    "n_edges = int(0.5 * (n_nodes * (n_nodes - 1)))\n",
    "edge_pairs = list(combinations(range(n_nodes), 2))\n",
    "# 01, 02, 03, 04, 12, 13, 14, 23, 24, 34\n",
    "#w = np.array([93, 88, 86, 84, 81, 80, 79, 74, 72, 74])\n",
    "w = 100 * np.random.rand(n_edges)\n",
    "size = 5\n",
    "\n",
    "# Create a new model\n",
    "m = gp.Model(\"graph\")\n",
    "\n",
    "# Create variables\n",
    "x = m.addVars(n_nodes, vtype=GRB.BINARY, name=\"x\")\n",
    "y = m.addVars(n_edges, vtype=GRB.BINARY, name=\"y\")\n",
    "\n",
    "for n, pair in enumerate(edge_pairs):\n",
    "    i, j = pair\n",
    "    y[n].setAttr(GRB.Attr.VarName, f\"y{i}{j}\")\n",
    "\n",
    "# Set objective\n",
    "m.setObjective(quicksum(w[i]*y[i] for i in range(n_edges)), GRB.MINIMIZE)\n",
    "m.update()\n",
    "\n",
    "# Add edge constraints\n",
    "for pair in edge_pairs:\n",
    "    i, j = pair\n",
    "    y_ij = m.getVarByName(f\"y{i}{j}\")\n",
    "    m.addConstr(x[i] + x[j] - 2 * y_ij >= 0, f\"c{i}{j}>=0\")\n",
    "    m.addConstr(x[i] + x[j] - 2 * y_ij <= 1, f\"c{i}{j}<=1\")\n",
    "\n",
    "# Add minimum subgraph size constraint\n",
    "m.addConstr(quicksum(x[i] for i in range(n_nodes)) == size, \"subgraph_size\")\n",
    "\n",
    "# Optimize model\n",
    "m.optimize()"
   ]
  },
  {
   "cell_type": "code",
   "execution_count": 70,
   "metadata": {},
   "outputs": [
    {
     "data": {
      "text/plain": [
       "[1.0, 1.0, 1.0, 1.0, 1.0, 1.0, 1.0, 1.0, 1.0, 1.0, 1.0, 1.0, 1.0, 1.0, 1.0]"
      ]
     },
     "execution_count": 70,
     "metadata": {},
     "output_type": "execute_result"
    }
   ],
   "source": [
    "m.x"
   ]
  },
  {
   "cell_type": "code",
   "execution_count": 68,
   "metadata": {},
   "outputs": [
    {
     "data": {
      "text/plain": [
       "36129250.0"
      ]
     },
     "execution_count": 68,
     "metadata": {},
     "output_type": "execute_result"
    }
   ],
   "source": [
    "n = 8500\n",
    "\n",
    "0.5 * n * (n -1) + n"
   ]
  },
  {
   "cell_type": "code",
   "execution_count": null,
   "metadata": {},
   "outputs": [],
   "source": [
    "# Handling large MIPs\n",
    "# https://support.gurobi.com/hc/en-us/community/posts/360065015471-Horrible-presolve-time-and-bad-solution\n",
    "\n",
    "\n",
    "# Apricot: submodular optimization\n",
    "# https://apricot-select.readthedocs.io/en/latest/functions/mixture.html"
   ]
  },
  {
   "cell_type": "markdown",
   "metadata": {},
   "source": [
    "# Preparing a larger example"
   ]
  },
  {
   "cell_type": "code",
   "execution_count": 1,
   "metadata": {},
   "outputs": [
    {
     "data": {
      "text/plain": [
       "50"
      ]
     },
     "execution_count": 1,
     "metadata": {},
     "output_type": "execute_result"
    }
   ],
   "source": [
    "from Bio import SeqIO\n",
    "\n",
    "records = SeqIO.parse(\"/home/robaina/Software/repset/test/seqs.fasta\", \"fasta\")\n",
    "new_records = []\n",
    "for n, record in enumerate(records):\n",
    "    record.id = f\"n{n}\"\n",
    "    record.name = f\"n{n}\"\n",
    "    record.description = f\"n{n}\"\n",
    "    new_records.append(record)\n",
    "SeqIO.write(new_records, 'data.fasta', \"fasta\")"
   ]
  },
  {
   "cell_type": "code",
   "execution_count": 11,
   "metadata": {},
   "outputs": [],
   "source": [
    "import pandas as pd\n",
    "from itertools import combinations\n",
    "\n",
    "n_nodes = 50\n",
    "edges = {f\"n{i}n{j}\" for i,j in combinations(range(n_nodes), 2)}\n",
    "\n",
    "data = []\n",
    "seen_edges = set()\n",
    "with open('/home/robaina/Documents/TRAITS/repset_test/repset_results/psiblast_result.tab', 'r') as file:\n",
    "    n = 0\n",
    "    for line in file.readlines():\n",
    "        if line.startswith(\"n\"):\n",
    "            n += 1\n",
    "            nodes = line.split()[:2]\n",
    "            nodes.sort()\n",
    "            edge = \"\".join()\n",
    "            pi = line.split()[2]\n",
    "            if (edge in edges) and (edge not in seen_edges):\n",
    "                seen_edges.add(edge)\n",
    "                data.append(f\"{edge} {pi}\\n\")\n",
    "\n",
    "with open(\"pidata.txt\", \"w\") as outfile:\n",
    "    outfile.writelines(data)"
   ]
  },
  {
   "cell_type": "code",
   "execution_count": 12,
   "metadata": {},
   "outputs": [],
   "source": [
    "# PSI BLAST fails to add PI for some pairs, doing it with MSA"
   ]
  },
  {
   "cell_type": "code",
   "execution_count": 36,
   "metadata": {},
   "outputs": [],
   "source": [
    "def readFromPickleFile(path_to_file='object.pkl'):\n",
    "    \"\"\"\n",
    "    Load python object from pickle file.\n",
    "    Returns python object.\n",
    "    \"\"\"\n",
    "    in_file = open(path_to_file,'rb')\n",
    "    python_object = pickle.load(in_file)\n",
    "    return python_object\n",
    "\n",
    "dists = readFromPickleFile(\"/home/robaina/Documents/TRAITS/repset_test/repset_dist_to_milp.pickle\")"
   ]
  },
  {
   "cell_type": "code",
   "execution_count": 40,
   "metadata": {},
   "outputs": [
    {
     "data": {
      "image/png": "[encoded data removed]",
      "text/plain": [
       "<Figure size 432x288 with 1 Axes>"
      ]
     },
     "metadata": {
      "needs_background": "light"
     },
     "output_type": "display_data"
    }
   ],
   "source": [
    "from matplotlib import pyplot as plt \n",
    "\n",
    "data = plt.hist(dists)"
   ]
  }
 ],
 "metadata": {
  "interpreter": {
   "hash": "916dbcbb3f70747c44a77c7bcd40155683ae19c65e1c03b4aa3499c5328201f1"
  },
  "kernelspec": {
   "display_name": "Python 3.8.10 64-bit",
   "name": "python3"
  },
  "language_info": {
   "codemirror_mode": {
    "name": "ipython",
    "version": 3
   },
   "file_extension": ".py",
   "mimetype": "text/x-python",
   "name": "python",
   "nbconvert_exporter": "python",
   "pygments_lexer": "ipython3",
   "version": "3.8.10"
  },
  "orig_nbformat": 4
 },
 "nbformat": 4,
 "nbformat_minor": 2
}
