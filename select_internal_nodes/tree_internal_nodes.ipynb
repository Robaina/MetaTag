{
 "cells": [
  {
   "cell_type": "markdown",
   "metadata": {},
   "source": [
    "# Instructions\n",
    "0. Install Biopython in Jupyter kernel if not already installed\n",
    "\n",
    "\n",
    "Initilize PhyloTree object:\n",
    "\n",
    " 1) assigns labels to internal nodes if labels are not present. \n",
    "    Default labels for internal nodes are of the form: IN_0_98,\n",
    "    the first number is the node index and the second number its\n",
    "    bootstrap value.\n",
    "    \n",
    " 2) (optional) collapses branches with bootstrap value below threshold\n",
    "\n",
    "    2.1) Bootstrap values from fasttree are re-scaled from 0-1 to 0-100 to match\n",
    "         iqtree values.\n",
    "         \n",
    "    2.2) Set bootstrap_threshold to None (default) to disable collapsing branches."
   ]
  },
  {
   "cell_type": "code",
   "execution_count": null,
   "metadata": {},
   "outputs": [],
   "source": [
    "from src import PhyloTree, filterFASTAbyIDs\n",
    "\n",
    "\n",
    "\"\"\"\n",
    "Arguments:\n",
    "(optional) tree_format: defaults to 'newick'\n",
    "(optional) bootstrap_threshold: defaults to None\n",
    "\n",
    "NOTE:\n",
    "Internal nodes are labelled at PhyloTree class initialization,\n",
    "thus, labels may be different for different initialized PhyloTree\n",
    "objects if a different bootstrap_threshold value is employ. This is\n",
    "because if the threshold is set to anything other than 'None', then\n",
    "branches with bootstrap value below threshold are collapsed, and some\n",
    "internal nodes may disappear.\n",
    "\"\"\"\n",
    "\n",
    "\n",
    "tree_path = 'example.newick'\n",
    "\n",
    "phylotree = PhyloTree(tree_path=tree_path, tree_format='newick', bootstrap_threshold=None)"
   ]
  },
  {
   "cell_type": "code",
   "execution_count": 3,
   "metadata": {},
   "outputs": [],
   "source": [
    "# Export tree to file\n",
    "phylotree.exportTree(outfile='labelled_example.newick', tree_format='newick')"
   ]
  },
  {
   "cell_type": "markdown",
   "metadata": {},
   "source": [
    "\n",
    "Load 'tree.newick' into iTOL or tool of choice and select:\n",
    "\n",
    "a) internal nodes of interest (copy label) and/or\n",
    "b) leaves (final reference sequences) of interest\n",
    "\n",
    "NOTE: iTOL removes '_' from labels, so, e.g. IN 1 9 in iTOL would be IN_1_9 here\n",
    "\n",
    "Come back to jupyter notebook with initialized phylotree object.\n",
    "\n",
    "EXAMPLE: we have selected some internal nodes and some leaves and\n",
    "         are interested in finding out the resulting cluster in the\n",
    "         first case, and the closest internal node (cluster) that \n",
    "         contains the selected leaves.\n"
   ]
  },
  {
   "cell_type": "code",
   "execution_count": 6,
   "metadata": {},
   "outputs": [
    {
     "data": {
      "text/plain": [
       "['ref_test_0', 'ref_test_14']"
      ]
     },
     "execution_count": 6,
     "metadata": {},
     "output_type": "execute_result"
    }
   ],
   "source": [
    "# First find out all leaves downstream of selected nodes\n",
    "cluster_IN_3 = phylotree.getAllDescendantsOfTargetNode('IN_7_83')\n",
    "cluster_IN_3"
   ]
  },
  {
   "cell_type": "code",
   "execution_count": 4,
   "metadata": {},
   "outputs": [
    {
     "data": {
      "text/plain": [
       "['ref_test_3', 'ref_test_5']"
      ]
     },
     "execution_count": 4,
     "metadata": {},
     "output_type": "execute_result"
    }
   ],
   "source": [
    "# First find out all leaves downstream of selected nodes\n",
    "cluster_IN_5 = phylotree.getAllDescendantsOfTargetNode('IN_5_100')\n",
    "cluster_IN_5"
   ]
  },
  {
   "cell_type": "code",
   "execution_count": 5,
   "metadata": {},
   "outputs": [],
   "source": [
    "# Now find closest internal now to set of leaves\n",
    "\n",
    "leaves = {\n",
    "    'group_a': ['ref_test_14', 'ref_test_13'],\n",
    "    'group_b': ['ref_test_3', 'ref_test_5']\n",
    "}"
   ]
  },
  {
   "cell_type": "code",
   "execution_count": 6,
   "metadata": {},
   "outputs": [
    {
     "data": {
      "text/plain": [
       "'IN_3_98'"
      ]
     },
     "execution_count": 6,
     "metadata": {},
     "output_type": "execute_result"
    }
   ],
   "source": [
    "IN_a = phylotree.getClosestCommonAncestor(target_names=leaves['group_a'])\n",
    "IN_a"
   ]
  },
  {
   "cell_type": "code",
   "execution_count": 7,
   "metadata": {},
   "outputs": [
    {
     "data": {
      "text/plain": [
       "'IN_5_100'"
      ]
     },
     "execution_count": 7,
     "metadata": {},
     "output_type": "execute_result"
    }
   ],
   "source": [
    "# Now find closest internal now to set of leaves\n",
    "IN_b = phylotree.getClosestCommonAncestor(target_names=leaves['group_b'])\n",
    "IN_b"
   ]
  },
  {
   "cell_type": "code",
   "execution_count": 8,
   "metadata": {},
   "outputs": [
    {
     "data": {
      "text/plain": [
       "['ref_test_3', 'ref_test_5', 'ref_test_0', 'ref_test_14', 'ref_test_13']"
      ]
     },
     "execution_count": 8,
     "metadata": {},
     "output_type": "execute_result"
    }
   ],
   "source": [
    "\"\"\"\n",
    "We can also enumerate all clusters as defined by internal nodes at once,\n",
    "a python dictionary will be generated:\n",
    "\"\"\"\n",
    "\n",
    "tree_clusters = phylotree.extractClustersFromInternalNodes()\n",
    "\n",
    "# All clusters are in this dictionary:\n",
    "tree_clusters['IN_3_98']"
   ]
  },
  {
   "cell_type": "code",
   "execution_count": 9,
   "metadata": {},
   "outputs": [],
   "source": [
    "# Obtaining reference sequences of selected tree cluster\n",
    "\n",
    "filterFASTAbyIDs(\n",
    "    input_fasta=\"ref_database.faa\",\n",
    "    record_ids=tree_clusters[\"IN_3_98\"],\n",
    "    output_fasta=\"IN_3_98.faa\"\n",
    ")"
   ]
  },
  {
   "cell_type": "code",
   "execution_count": 10,
   "metadata": {},
   "outputs": [
    {
     "data": {
      "text/plain": [
       "{'IN_0_None': ['ref_out_4',\n",
       "  'ref_out_0',\n",
       "  'ref_out_2',\n",
       "  'ref_out_3',\n",
       "  'ref_out_1',\n",
       "  'ref_test_3',\n",
       "  'ref_test_5',\n",
       "  'ref_test_0',\n",
       "  'ref_test_14',\n",
       "  'ref_test_13',\n",
       "  'ref_test_1',\n",
       "  'ref_test_7',\n",
       "  'ref_test_15',\n",
       "  'ref_test_9',\n",
       "  'ref_test_11',\n",
       "  'ref_test_6',\n",
       "  'ref_test_8',\n",
       "  'ref_test_4',\n",
       "  'ref_test_16',\n",
       "  'ref_test_12',\n",
       "  'ref_test_2',\n",
       "  'ref_test_10'],\n",
       " 'IN_1_100': ['ref_out_2', 'ref_out_3'],\n",
       " 'IN_2_100': ['ref_test_3',\n",
       "  'ref_test_5',\n",
       "  'ref_test_0',\n",
       "  'ref_test_14',\n",
       "  'ref_test_13',\n",
       "  'ref_test_1',\n",
       "  'ref_test_7',\n",
       "  'ref_test_15',\n",
       "  'ref_test_9',\n",
       "  'ref_test_11',\n",
       "  'ref_test_6',\n",
       "  'ref_test_8',\n",
       "  'ref_test_4',\n",
       "  'ref_test_16',\n",
       "  'ref_test_12',\n",
       "  'ref_test_2',\n",
       "  'ref_test_10'],\n",
       " 'IN_3_98': ['ref_test_3',\n",
       "  'ref_test_5',\n",
       "  'ref_test_0',\n",
       "  'ref_test_14',\n",
       "  'ref_test_13'],\n",
       " 'IN_4_100': ['ref_test_3', 'ref_test_5', 'ref_test_0', 'ref_test_14'],\n",
       " 'IN_5_100': ['ref_test_3', 'ref_test_5'],\n",
       " 'IN_6_98': ['ref_test_1',\n",
       "  'ref_test_7',\n",
       "  'ref_test_15',\n",
       "  'ref_test_9',\n",
       "  'ref_test_11',\n",
       "  'ref_test_6',\n",
       "  'ref_test_8'],\n",
       " 'IN_7_97': ['ref_test_1', 'ref_test_7', 'ref_test_15'],\n",
       " 'IN_8_100': ['ref_test_1', 'ref_test_7'],\n",
       " 'IN_9_100': ['ref_test_9', 'ref_test_11', 'ref_test_6', 'ref_test_8'],\n",
       " 'IN_10_100': ['ref_test_6', 'ref_test_8']}"
      ]
     },
     "execution_count": 10,
     "metadata": {},
     "output_type": "execute_result"
    }
   ],
   "source": [
    "tree_clusters"
   ]
  }
 ],
 "metadata": {
  "interpreter": {
   "hash": "367a058ebb24ea2c2bb1633bf810ec6a1a05f59e065f27f721ea93103e797079"
  },
  "kernelspec": {
   "display_name": "Python 3.9.6 ('traits')",
   "language": "python",
   "name": "python3"
  },
  "language_info": {
   "codemirror_mode": {
    "name": "ipython",
    "version": 3
   },
   "file_extension": ".py",
   "mimetype": "text/x-python",
   "name": "python",
   "nbconvert_exporter": "python",
   "pygments_lexer": "ipython3",
   "version": "3.9.6"
  },
  "orig_nbformat": 4
 },
 "nbformat": 4,
 "nbformat_minor": 2
}
