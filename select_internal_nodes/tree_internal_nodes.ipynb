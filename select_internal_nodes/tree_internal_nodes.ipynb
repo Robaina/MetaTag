{
 "cells": [
  {
   "cell_type": "markdown",
   "metadata": {},
   "source": [
    "# Instructions\n",
    "0. Install Biopython in Jupyter kernel if not already installed\n",
    "\n",
    "\n",
    "Initilize PhyloTree object:\n",
    "\n",
    " 1) assigns labels to internal nodes if labels are not present. \n",
    "    Default labels for internal nodes are of the form: IN_0_98,\n",
    "    the first number is the node index and the second number its\n",
    "    bootstrap value.\n",
    "    \n",
    " 2) (optional) collapses branches with bootstrap value below threshold\n",
    "\n",
    "    2.1) Bootstrap values from fasttree are re-scaled from 0-1 to 0-100 to match\n",
    "         iqtree values.\n",
    "         \n",
    "    2.2) Set bootstrap_threshold to None (default) to disable collapsing branches."
   ]
  },
  {
   "cell_type": "code",
   "execution_count": 1,
   "metadata": {},
   "outputs": [],
   "source": [
    "from src import PhyloTree, filterFASTAbyIDs, exportTreeClustersToFile\n",
    "\n",
    "\n",
    "\"\"\"\n",
    "Arguments:\n",
    "(optional) tree_format: defaults to 'newick'\n",
    "(optional) bootstrap_threshold: defaults to None\n",
    "\n",
    "NOTE:\n",
    "Internal nodes are labelled at PhyloTree class initialization,\n",
    "thus, labels may be different for different initialized PhyloTree\n",
    "objects if a different bootstrap_threshold value is employ. This is\n",
    "because if the threshold is set to anything other than 'None', then\n",
    "branches with bootstrap value below threshold are collapsed, and some\n",
    "internal nodes may disappear.\n",
    "\"\"\"\n",
    "\n",
    "\n",
    "tree_path = 'example_taxo.newick'\n",
    "\n",
    "phylotree = PhyloTree(tree_path=tree_path, tree_format='newick', bootstrap_threshold=None)"
   ]
  },
  {
   "cell_type": "code",
   "execution_count": 2,
   "metadata": {},
   "outputs": [],
   "source": [
    "# Export tree to file\n",
    "phylotree.exportTree(outfile='labelled_example.newick', tree_format='newick')"
   ]
  },
  {
   "cell_type": "markdown",
   "metadata": {},
   "source": [
    "\n",
    "Load 'tree.newick' into iTOL or tool of choice and select:\n",
    "\n",
    "a) internal nodes of interest (copy label) and/or\n",
    "b) leaves (final reference sequences) of interest\n",
    "\n",
    "NOTE: iTOL removes '_' from labels, so, e.g. IN 1 9 in iTOL would be IN_1_9 here\n",
    "\n",
    "Come back to jupyter notebook with initialized phylotree object.\n",
    "\n",
    "EXAMPLE: we have selected some internal nodes and some leaves and\n",
    "         are interested in finding out the resulting cluster in the\n",
    "         first case, and the closest internal node (cluster) that \n",
    "         contains the selected leaves.\n"
   ]
  },
  {
   "cell_type": "code",
   "execution_count": 3,
   "metadata": {},
   "outputs": [
    {
     "data": {
      "text/plain": [
       "['Ancylomarina_sp_A4_MMP09721042_QTZN01000004_1_MMP09721042_286_375050_375931_pos_d_Bacteria_p_Bacteroidota_c_Bacteroidia_o_Bacteroidales_f_Marinifilaceae_g_Labilibaculum',\n",
       " 'Bacteroidetes_bacterium_strain_SZUA_561_MMP09288109_QKHT01000160_1_005_002565_003389_neg_d_Bacteria_p_Bacteroidota_c_Bacteroidia_o_Bacteroidales_f_UBA5342_g_SZUA_561_s_SZUA_561_sp003249935',\n",
       " 'Bacteroidales_bacterium_UBA5342_MMP06454386_DHQI01000129_1_010_016822_017646_pos_d_Bacteria_p_Bacteroidota_c_Bacteroidia_o_Bacteroidales_f_UBA5342_g_UBA5342_s_UBA5342_sp002408065']"
      ]
     },
     "execution_count": 3,
     "metadata": {},
     "output_type": "execute_result"
    }
   ],
   "source": [
    "# First find out all leaves downstream of selected nodes\n",
    "cluster_IN_13 = phylotree.getAllDescendantsOfTargetNode('IN_13')\n",
    "cluster_IN_13"
   ]
  },
  {
   "cell_type": "code",
   "execution_count": 4,
   "metadata": {},
   "outputs": [],
   "source": [
    "# Now find closest internal now to set of leaves\n",
    "\n",
    "leaves = {\n",
    "    'group_a': [\n",
    "        'Bacteroidales_bacterium_UBA5342_MMP06454386_DHQI01000129_1_010_016822_017646_pos_d_Bacteria_p_Bacteroidota_c_Bacteroidia_o_Bacteroidales_f_UBA5342_g_UBA5342_s_UBA5342_sp002408065',\n",
    "        'Ancylomarina_sp_A4_MMP09721042_QTZN01000004_1_MMP09721042_286_375050_375931_pos_d_Bacteria_p_Bacteroidota_c_Bacteroidia_o_Bacteroidales_f_Marinifilaceae_g_Labilibaculum'\n",
    "        ],\n",
    "    'group_b': [\n",
    "        'ANME_1_cluster_archaeon_CONS3730B06UFb1_MMP08574241_QENH01000192_1_0MMP08574241_8_06644_07546_neg_d_Archaea_p_Halobacterota_c_Syntrophoarchaeia_o_ANME_1_f_ANME_1',\n",
    "        'ANME_2_cluster_archaeon_HR1_MMP06562579_MZXQ01000108_1_0MMP06562579_3_02148_02891_pos_d_Archaea_p_Halobacterota_c_Methanosarcinia_o_Methanosarcinales_f_HR1_g_HR1_s_HR1_sp002926195'\n",
    "        ]\n",
    "}"
   ]
  },
  {
   "cell_type": "code",
   "execution_count": 5,
   "metadata": {},
   "outputs": [
    {
     "data": {
      "text/plain": [
       "'IN_13'"
      ]
     },
     "execution_count": 5,
     "metadata": {},
     "output_type": "execute_result"
    }
   ],
   "source": [
    "IN_a = phylotree.getClosestCommonAncestor(target_names=leaves['group_a'])\n",
    "IN_a"
   ]
  },
  {
   "cell_type": "code",
   "execution_count": 6,
   "metadata": {},
   "outputs": [
    {
     "data": {
      "text/plain": [
       "'IN_0'"
      ]
     },
     "execution_count": 6,
     "metadata": {},
     "output_type": "execute_result"
    }
   ],
   "source": [
    "# Now find closest internal now to set of leaves\n",
    "IN_b = phylotree.getClosestCommonAncestor(target_names=leaves['group_b'])\n",
    "IN_b"
   ]
  },
  {
   "cell_type": "code",
   "execution_count": 7,
   "metadata": {},
   "outputs": [
    {
     "data": {
      "text/plain": [
       "['Ancylomarina_sp_A4_MMP09721042_QTZN01000004_1_MMP09721042_286_375050_375931_pos_d_Bacteria_p_Bacteroidota_c_Bacteroidia_o_Bacteroidales_f_Marinifilaceae_g_Labilibaculum',\n",
       " 'Bacteroidetes_bacterium_strain_SZUA_561_MMP09288109_QKHT01000160_1_005_002565_003389_neg_d_Bacteria_p_Bacteroidota_c_Bacteroidia_o_Bacteroidales_f_UBA5342_g_SZUA_561_s_SZUA_561_sp003249935',\n",
       " 'Bacteroidales_bacterium_UBA5342_MMP06454386_DHQI01000129_1_010_016822_017646_pos_d_Bacteria_p_Bacteroidota_c_Bacteroidia_o_Bacteroidales_f_UBA5342_g_UBA5342_s_UBA5342_sp002408065']"
      ]
     },
     "execution_count": 7,
     "metadata": {},
     "output_type": "execute_result"
    }
   ],
   "source": [
    "\"\"\"\n",
    "We can also enumerate all clusters as defined by internal nodes at once,\n",
    "a python dictionary will be generated:\n",
    "\"\"\"\n",
    "\n",
    "tree_clusters = phylotree.extractClustersFromInternalNodes()\n",
    "\n",
    "# All clusters are in this dictionary:\n",
    "tree_clusters['IN_13']"
   ]
  },
  {
   "cell_type": "code",
   "execution_count": 8,
   "metadata": {},
   "outputs": [
    {
     "data": {
      "text/plain": [
       "{'IN_16': ['Agarivorans_gilvus_MMP04215004_NZ_0CP013021_1_348_0365630_0366508_pos_d_Bacteria_p_Proteobacteria_c_Gammaproteobacteria_o_Enterobacterales_f_Psychromonadaceae_A_g_Agarivorans_s_Agarivorans_gilvus',\n",
       "  'Alteromonadales_BS08_MMP05661223_NZ_MRUG01000033_1_220_252950_253837_neg_d_Bacteria_p_Proteobacteria_c_Gammaproteobacteria_o_Pseudomonadales_f_Cellvibrionaceae_g_Teredinibacter_s_Teredinibacter_sp001922955'],\n",
       " 'IN_18': ['Afifella_marina_BN_126_MMP03080610_FMVW01000002_1_552_0584494_0585393_pos_d_Bacteria_p_Proteobacteria_c_Alphaproteobacteria_o_Rhizobiales_f_Afifellaceae_g_Afifella_s_Afifella_marina',\n",
       "  'Azoarcus_toluclasticus_MF63_MMP02441344_NZ_KB899493_1_262_290533_291402_pos_d_Bacteria_p_Proteobacteria_c_Gammaproteobacteria_o_Burkholderiales_f_Rhodocyclaceae_g_Azoarcus_A_s_Azoarcus_A_toluclasticus']}"
      ]
     },
     "execution_count": 8,
     "metadata": {},
     "output_type": "execute_result"
    }
   ],
   "source": [
    "\"\"\"\n",
    "We can also filter clusters by a common pattern (substring) that\n",
    "all leaves (reference names) must contain within the cluster.\n",
    "For example, let's extract clusters containing references within the\n",
    "class Proteobacteria\n",
    "\"\"\"\n",
    "\n",
    "proteo_clusters = phylotree.extractClustersFromInternalNodes(filter_by_pattern='Proteobacteria')\n",
    "\n",
    "proteo_clusters"
   ]
  },
  {
   "cell_type": "code",
   "execution_count": 9,
   "metadata": {},
   "outputs": [],
   "source": [
    "\"\"\"\n",
    "Function to transform dictionary into clusters.tsv file\n",
    "\"\"\"\n",
    "exportTreeClustersToFile(proteo_clusters, outfile='proteoclusters.tsv')"
   ]
  },
  {
   "cell_type": "code",
   "execution_count": 13,
   "metadata": {},
   "outputs": [],
   "source": [
    "\n",
    "\n",
    "# Parser external nodes by common taxon (export to tsv)\n",
    "# Translate back a forth reference names\n",
    "# Look at counting individual clusters\n",
    "# Look at clusters.tsv export function (already made)\n",
    "# Reference seuquences with cluster ID but not with taxonomy: what happens with them?"
   ]
  },
  {
   "cell_type": "code",
   "execution_count": 12,
   "metadata": {},
   "outputs": [],
   "source": [
    "# Obtaining reference sequences of selected tree cluster\n",
    "\n",
    "# filterFASTAbyIDs(\n",
    "#     input_fasta=\"ref_database.faa\",\n",
    "#     record_ids=tree_clusters[\"IN_7_83\"],\n",
    "#     output_fasta=\"IN_7_83.faa\"\n",
    "# )"
   ]
  }
 ],
 "metadata": {
  "interpreter": {
   "hash": "367a058ebb24ea2c2bb1633bf810ec6a1a05f59e065f27f721ea93103e797079"
  },
  "kernelspec": {
   "display_name": "Python 3.9.6 ('traits')",
   "language": "python",
   "name": "python3"
  },
  "language_info": {
   "codemirror_mode": {
    "name": "ipython",
    "version": 3
   },
   "file_extension": ".py",
   "mimetype": "text/x-python",
   "name": "python",
   "nbconvert_exporter": "python",
   "pygments_lexer": "ipython3",
   "version": "3.9.6"
  },
  "orig_nbformat": 4
 },
 "nbformat": 4,
 "nbformat_minor": 2
}
