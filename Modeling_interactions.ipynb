{
 "cells": [
  {
   "cell_type": "markdown",
   "metadata": {},
   "source": [
    "# Modeling microbial interactions between guilds of traits\n",
    "\n",
    "Definitions:\n",
    "\n",
    "1. __Trait__: ability to acquire an essential nutrient from the environment\n",
    "2. __Guild__: set of taxa which follows the same strategy to satisfy a trait\n",
    "\n",
    "Principles:\n",
    "\n",
    "1. A taxon may belong to more than one guild in the same trait\n",
    "2. Each taxon must belong to at least one guild of each trait to ensure survival\n",
    "\n",
    "\n",
    "Model:\n",
    "\n",
    "We define a multipartite graph $G(n, e)$ as "
   ]
  },
  {
   "cell_type": "code",
   "execution_count": null,
   "metadata": {},
   "outputs": [],
   "source": []
  }
 ],
 "metadata": {
  "kernelspec": {
   "display_name": "Python 3",
   "language": "python",
   "name": "python3"
  },
  "language_info": {
   "codemirror_mode": {
    "name": "ipython",
    "version": 3
   },
   "file_extension": ".py",
   "mimetype": "text/x-python",
   "name": "python",
   "nbconvert_exporter": "python",
   "pygments_lexer": "ipython3",
   "version": "3.7.4"
  }
 },
 "nbformat": 4,
 "nbformat_minor": 4
}
