{
 "cells": [
  {
   "cell_type": "code",
   "execution_count": 43,
   "source": [
    "records = SeqIO.parse('../data/sequences.fasta.aln', 'fasta')\n",
    "np.unique([len(list(r.seq)) for r in records])"
   ],
   "outputs": [
    {
     "output_type": "execute_result",
     "data": {
      "text/plain": [
       "array([414])"
      ]
     },
     "metadata": {},
     "execution_count": 43
    }
   ],
   "metadata": {}
  },
  {
   "cell_type": "code",
   "execution_count": 44,
   "source": [
    "alns = getRecordAlignments('../data/sequences.fasta.aln')\n",
    "azo = getRecordAlignments('../data/sequencesLongLabels.fasta')"
   ],
   "outputs": [],
   "metadata": {}
  },
  {
   "cell_type": "code",
   "execution_count": 56,
   "source": [
    "azo['001'][108:118]"
   ],
   "outputs": [
    {
     "output_type": "execute_result",
     "data": {
      "text/plain": [
       "['F', 'L', 'E', 'E', 'E', 'G', 'A', 'Y', 'S', 'D']"
      ]
     },
     "metadata": {},
     "execution_count": 56
    }
   ],
   "metadata": {}
  },
  {
   "cell_type": "code",
   "execution_count": 57,
   "source": [
    "print(alns['001'][193:203])"
   ],
   "outputs": [
    {
     "output_type": "stream",
     "name": "stdout",
     "text": [
      "['F', 'L', 'E', 'E', 'E', 'G', 'A', 'Y', 'S', 'D']\n"
     ]
    }
   ],
   "metadata": {}
  },
  {
   "cell_type": "code",
   "execution_count": 2,
   "source": [
    "from collections import defaultdict\n",
    "import pandas as pd\n",
    "from Bio import SearchIO, SeqIO\n",
    "\n",
    "hmmout = '../sout.txt'\n",
    "hitsout = 'hits.fasta'\n",
    "pepite_db = '/home/robaina/cleangenomes/results/Marref_V6.faa'\n",
    "\n",
    "attribs = ['id', 'bias', 'bitscore', 'description']\n",
    "hits = defaultdict(list)\n",
    "\n",
    "with open(hmmout) as handle:\n",
    "    for queryresult in SearchIO.parse(handle, 'hmmer3-tab'):\n",
    "      for hit in queryresult.hits:\n",
    "        for attrib in attribs:\n",
    "          hits[attrib].append(getattr(hit, attrib))\n",
    "\n",
    "hits_df = pd.DataFrame.from_dict(hits)\n",
    "\n",
    "# Write hit fasta\n",
    "hit_records = [record for record in SeqIO.parse(pepite_db, 'fasta')\n",
    "               if record.id in hits_df.id.values]\n",
    "\n",
    "with open(hitsout, 'w') as out_handle:\n",
    "     SeqIO.write(hit_records, out_handle, 'fasta')"
   ],
   "outputs": [],
   "metadata": {}
  },
  {
   "cell_type": "code",
   "execution_count": 30,
   "source": [
    "from Bio import SeqIO\n",
    "\n",
    "input_fasta = '/home/robaina/cleangenomes/results/Marref_V6.fasta'\n",
    "\n",
    "hit_records = [record for record in SeqIO.parse(input_fasta, 'fasta')\n",
    "               if record.id in hits_df.id.values]\n",
    "\n",
    "with open('hits.fasta', 'w') as out_handle:\n",
    "    # for record in SeqIO.parse(input_fasta, 'fasta'):\n",
    "    #     if record.id in hits_df.id.values:\n",
    "     SeqIO.write(hit_records, out_handle, 'fasta')\n",
    "\n",
    "# SeqIO.write(selected_seqs, out_handle, \"fasta\")"
   ],
   "outputs": [],
   "metadata": {}
  },
  {
   "cell_type": "code",
   "execution_count": 1,
   "source": [
    "def my_decorator(func):\n",
    "    def wrapper():\n",
    "        print(\"Something is happening before the function is called.\")\n",
    "        func()\n",
    "        print(\"Something is happening after the function is called.\")\n",
    "    return wrapper\n",
    "\n",
    "@my_decorator\n",
    "def say_whee():\n",
    "    print(\"Whee!\")\n",
    "\n",
    "\n",
    "say_whee()"
   ],
   "outputs": [
    {
     "output_type": "stream",
     "name": "stdout",
     "text": [
      "Something is happening before the function is called.\n",
      "Whee!\n",
      "Something is happening after the function is called.\n"
     ]
    }
   ],
   "metadata": {}
  },
  {
   "cell_type": "code",
   "execution_count": 14,
   "source": [
    "#Python decorators must return a function object\n",
    "import smtplib\n",
    "import functools\n",
    "\n",
    "def pegasoNotify(message: str, receivers: list) -> None:\n",
    "    \"\"\"\n",
    "    Send email from python to receivers.\n",
    "    receivers: list containing email addresses as strings.\n",
    "    \"\"\"\n",
    "    s = smtplib.SMTP_SSL(host = 'smtp.gmail.com', port = 465)\n",
    "    s.login(user='pegaso.notifications@gmail.com', password='pegasoFzdx')\n",
    "    s.sendmail('pegaso.notifications@gmail.com', receivers, message)\n",
    "    s.quit()\n",
    "    print('Notification sent')\n",
    "\n",
    "\n",
    "def remotetest(func):\n",
    "    \"\"\"\n",
    "    Decorator to test and report remote\n",
    "    process success status\n",
    "    \"\"\"\n",
    "    @functools.wraps(func) # Allows keeping function identity when calling help\n",
    "    def wrapper(*args, **kwargs):\n",
    "        try:\n",
    "            func(*args, **kwargs)\n",
    "            print('Function succeded')\n",
    "            pegasoNotify('Aquifex: Job done!', ['semidan.robaina@gmail.com'])\n",
    "        except Exception as e:\n",
    "            print(f'Function failed with exception: {e}')\n",
    "            pegasoNotify(f'Aquifex: Job failed with exception: {e}', ['semidan.robaina@gmail.com'])\n",
    "    return wrapper\n",
    "\n",
    "\n",
    "@remotetest\n",
    "def test(a, b):\n",
    "    print(f'This is a test {a / b}')\n",
    "\n",
    "test(1, 0)"
   ],
   "outputs": [
    {
     "output_type": "stream",
     "name": "stdout",
     "text": [
      "Function failed with exception: division by zero\n",
      "Notification sent\n"
     ]
    }
   ],
   "metadata": {}
  },
  {
   "cell_type": "code",
   "execution_count": 4,
   "source": [
    "import pyfastx\n",
    "\n",
    "fa = pyfastx.Fasta('/home/robaina/Documents/MAR_database/mardb_proteins_V6.faa')\n",
    "ids = fa.keys()\n",
    "fa"
   ],
   "outputs": [
    {
     "output_type": "execute_result",
     "data": {
      "text/plain": [
       "<Fasta> /home/robaina/Documents/MAR_database/mardb_proteins_V6.faa contains 46739080 sequences"
      ]
     },
     "metadata": {},
     "execution_count": 4
    }
   ],
   "metadata": {}
  },
  {
   "cell_type": "code",
   "execution_count": 3,
   "source": [
    "s0 = fa[0]\n",
    "s0"
   ],
   "outputs": [
    {
     "output_type": "execute_result",
     "data": {
      "text/plain": [
       "<Sequence> SCZ75963.1_MMP03080599 with length of 391"
      ]
     },
     "metadata": {},
     "execution_count": 3
    }
   ],
   "metadata": {}
  },
  {
   "cell_type": "markdown",
   "source": [
    "# Search for duplicates through composition\n",
    "\n",
    "NOT working, takes way too much time to compute, storing compositions would save some RAM space but would need to precompute (perhaps in parallel). Seems to much work for something that can be done in a computer with higher RAM...\n",
    "\n",
    "Any other, more efficient, way to look for duplicated sequences?"
   ],
   "metadata": {}
  },
  {
   "cell_type": "markdown",
   "source": [
    "# Using CD-HIT to eliminate duplicated sequences\n",
    "\n",
    "CD-HIT keeps one representative of the duplicated sequences, can be used in merged fasta\n",
    "from multiple datablases"
   ],
   "metadata": {}
  },
  {
   "cell_type": "code",
   "execution_count": 1,
   "source": [
    "from phyloplacement.database import runCDHIT\n",
    "\n",
    "runCDHIT(input_fasta='/home/robaina/Documents/MAR_database/mardb_proteins_V6.faa',\n",
    "         output_fasta='/home/robaina/Documents/MAR_database/mardb_proteins_V6_cdhit_no_duplicates.faa',\n",
    "         additional_args='-c 1 -t 1'\n",
    ")"
   ],
   "outputs": [],
   "metadata": {}
  },
  {
   "cell_type": "markdown",
   "source": [
    "# Preparing test query sequences for EPA-ng\n",
    "\n",
    "Using data from Kitzinger, 2021, but cutting sequences to deliver same size"
   ],
   "metadata": {}
  },
  {
   "cell_type": "code",
   "execution_count": 9,
   "source": [
    "from Bio import SeqIO\n",
    "\n",
    "min_length = 100\n",
    "\n",
    "input_fasta = '/home/robaina/Documents/TRAITS/data/nxr/kitzinger2021/Nxr_kitzinger_2021.fasta'\n",
    "output_fasta = '/home/robaina/Documents/TRAITS/data/nxr/kitzinger2021/epang_test.fasta'\n",
    "records = SeqIO.parse(input_fasta, 'fasta')\n",
    "output_records = []\n",
    "\n",
    "for record in records:\n",
    "    if len(record.seq) >= min_length:\n",
    "        record.seq = record.seq[:min_length]  \n",
    "        output_records.append(record)\n",
    "with open(output_fasta, 'w') as out_handle: \n",
    "        SeqIO.write(output_records, out_handle, 'fasta')\n"
   ],
   "outputs": [],
   "metadata": {}
  }
 ],
 "metadata": {
  "orig_nbformat": 4,
  "language_info": {
   "name": "python",
   "version": "3.8.10",
   "mimetype": "text/x-python",
   "codemirror_mode": {
    "name": "ipython",
    "version": 3
   },
   "pygments_lexer": "ipython3",
   "nbconvert_exporter": "python",
   "file_extension": ".py"
  },
  "kernelspec": {
   "name": "python3",
   "display_name": "Python 3.8.10 64-bit"
  },
  "interpreter": {
   "hash": "916dbcbb3f70747c44a77c7bcd40155683ae19c65e1c03b4aa3499c5328201f1"
  }
 },
 "nbformat": 4,
 "nbformat_minor": 2
}