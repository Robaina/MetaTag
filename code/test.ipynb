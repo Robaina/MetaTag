{
 "cells": [
  {
   "cell_type": "code",
   "execution_count": 1,
   "source": [
    "from Bio import SeqIO\n",
    "import numpy as np \n",
    "\n",
    "records = SeqIO.parse('../data/sequences_2.fasta.aln', 'fasta')\n",
    "np.unique([len(list(r.seq)) for r in records])"
   ],
   "outputs": [
    {
     "output_type": "execute_result",
     "data": {
      "text/plain": [
       "array([422])"
      ]
     },
     "metadata": {},
     "execution_count": 1
    }
   ],
   "metadata": {}
  },
  {
   "cell_type": "code",
   "execution_count": 2,
   "source": [
    "from nifhcart import getRecordAlignments, adjustCARTmodel\n",
    "\n",
    "alns = getRecordAlignments('../data/sequences.fasta.aln')\n",
    "azo = getRecordAlignments('../data/sequencesLongLabels.fasta')\n",
    "\n",
    "adjustCARTmodel('../data/sequencesLongLabels.fasta', '../data/sequences.fasta.aln')"
   ],
   "outputs": [
    {
     "output_type": "execute_result",
     "data": {
      "text/plain": [
       "{193: ['F', 'W', 'Y'], 102: ['A', 'D', 'I'], 106: ['L', 'M', 'W']}"
      ]
     },
     "metadata": {},
     "execution_count": 2
    }
   ],
   "metadata": {}
  },
  {
   "cell_type": "code",
   "execution_count": null,
   "source": [
    "a"
   ],
   "outputs": [],
   "metadata": {}
  }
 ],
 "metadata": {
  "orig_nbformat": 4,
  "language_info": {
   "name": "python",
   "version": "3.8.10",
   "mimetype": "text/x-python",
   "codemirror_mode": {
    "name": "ipython",
    "version": 3
   },
   "pygments_lexer": "ipython3",
   "nbconvert_exporter": "python",
   "file_extension": ".py"
  },
  "kernelspec": {
   "name": "python3",
   "display_name": "Python 3.8.10 64-bit"
  },
  "interpreter": {
   "hash": "916dbcbb3f70747c44a77c7bcd40155683ae19c65e1c03b4aa3499c5328201f1"
  }
 },
 "nbformat": 4,
 "nbformat_minor": 2
}