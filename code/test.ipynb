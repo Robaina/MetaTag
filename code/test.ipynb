{
 "cells": [
  {
   "cell_type": "code",
   "execution_count": 43,
   "source": [
    "records = SeqIO.parse('../data/sequences.fasta.aln', 'fasta')\n",
    "np.unique([len(list(r.seq)) for r in records])"
   ],
   "outputs": [
    {
     "output_type": "execute_result",
     "data": {
      "text/plain": [
       "array([414])"
      ]
     },
     "metadata": {},
     "execution_count": 43
    }
   ],
   "metadata": {}
  },
  {
   "cell_type": "code",
   "execution_count": 44,
   "source": [
    "alns = getRecordAlignments('../data/sequences.fasta.aln')\n",
    "azo = getRecordAlignments('../data/sequencesLongLabels.fasta')"
   ],
   "outputs": [],
   "metadata": {}
  },
  {
   "cell_type": "code",
   "execution_count": 45,
   "source": [
    "print(azo['001'])"
   ],
   "outputs": [
    {
     "output_type": "stream",
     "name": "stdout",
     "text": [
      "['M', 'A', 'L', 'R', 'Q', 'C', 'A', 'I', 'Y', 'G', 'K', 'G', 'G', 'I', 'G', 'K', 'S', 'T', 'T', 'T', 'Q', 'N', 'L', 'V', 'A', 'A', 'L', 'A', 'E', 'A', 'G', 'K', 'K', 'V', 'M', 'I', 'V', 'G', 'C', 'D', 'P', 'K', 'A', 'D', 'S', 'T', 'R', 'L', 'I', 'L', 'H', 'S', 'K', 'A', 'Q', 'N', 'T', 'V', 'M', 'E', 'M', 'A', 'A', 'S', 'A', 'G', 'S', 'V', 'E', 'D', 'L', 'E', 'L', 'E', 'D', 'V', 'L', 'Q', 'I', 'G', 'Y', 'G', 'G', 'V', 'K', 'C', 'V', 'E', 'S', 'G', 'G', 'P', 'E', 'P', 'G', 'V', 'G', 'C', 'A', 'G', 'R', 'G', 'V', 'I', 'T', 'A', 'I', 'N', 'F', 'L', 'E', 'E', 'E', 'G', 'A', 'Y', 'S', 'D', 'D', 'L', 'D', 'F', 'V', 'F', 'Y', 'D', 'V', 'L', 'G', 'D', 'V', 'V', 'C', 'G', 'G', 'F', 'A', 'M', 'P', 'I', 'R', 'E', 'N', 'K', 'A', 'Q', 'E', 'I', 'Y', 'I', 'V', 'C', 'S', 'G', 'E', 'M', 'M', 'A', 'M', 'Y', 'A', 'A', 'N', 'N', 'I', 'A', 'K', 'G', 'I', 'V', 'K', 'Y', 'A', 'H', 'S', 'G', 'S', 'V', 'R', 'L', 'G', 'G', 'L', 'I', 'C', 'N', 'S', 'R', 'K', 'T', 'D', 'R', 'E', 'D', 'E', 'L', 'I', 'M', 'A', 'L', 'A', 'A', 'K', 'I', 'G', 'T', 'Q', 'M', 'I', 'H', 'F', 'V', 'P', 'R', 'D', 'N', 'V', 'V', 'Q', 'H', 'A', 'E', 'I', 'R', 'R', 'M', 'T', 'V', 'I', 'E', 'Y', 'D', 'P', 'K', 'A', 'K', 'Q', 'A', 'D', 'E', 'Y', 'R', 'A', 'L', 'A', 'Q', 'K', 'I', 'L', 'N', 'N', 'K', 'L', 'L', 'V', 'I', 'P', 'N', 'P', 'A', 'S', 'M', 'E', 'D', 'L', 'E', 'E', 'L', 'L', 'M', 'E', 'F', 'G', 'I', 'M', 'E', 'A', 'E', 'D', 'E', 'S', 'I', 'V', 'G', 'K', 'A', 'A', 'A', 'E', 'G']\n"
     ]
    }
   ],
   "metadata": {}
  },
  {
   "cell_type": "code",
   "execution_count": 56,
   "source": [
    "azo['001'][108:118]"
   ],
   "outputs": [
    {
     "output_type": "execute_result",
     "data": {
      "text/plain": [
       "['F', 'L', 'E', 'E', 'E', 'G', 'A', 'Y', 'S', 'D']"
      ]
     },
     "metadata": {},
     "execution_count": 56
    }
   ],
   "metadata": {}
  },
  {
   "cell_type": "code",
   "execution_count": 57,
   "source": [
    "print(alns['001'][193:203])"
   ],
   "outputs": [
    {
     "output_type": "stream",
     "name": "stdout",
     "text": [
      "['F', 'L', 'E', 'E', 'E', 'G', 'A', 'Y', 'S', 'D']\n"
     ]
    }
   ],
   "metadata": {}
  }
 ],
 "metadata": {
  "orig_nbformat": 4,
  "language_info": {
   "name": "python",
   "version": "3.8.10",
   "mimetype": "text/x-python",
   "codemirror_mode": {
    "name": "ipython",
    "version": 3
   },
   "pygments_lexer": "ipython3",
   "nbconvert_exporter": "python",
   "file_extension": ".py"
  },
  "kernelspec": {
   "name": "python3",
   "display_name": "Python 3.8.10 64-bit"
  },
  "interpreter": {
   "hash": "916dbcbb3f70747c44a77c7bcd40155683ae19c65e1c03b4aa3499c5328201f1"
  }
 },
 "nbformat": 4,
 "nbformat_minor": 2
}