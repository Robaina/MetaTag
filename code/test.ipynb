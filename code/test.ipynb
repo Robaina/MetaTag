{
 "cells": [
  {
   "cell_type": "code",
   "execution_count": 43,
   "source": [
    "records = SeqIO.parse('../data/sequences.fasta.aln', 'fasta')\n",
    "np.unique([len(list(r.seq)) for r in records])"
   ],
   "outputs": [
    {
     "output_type": "execute_result",
     "data": {
      "text/plain": [
       "array([414])"
      ]
     },
     "metadata": {},
     "execution_count": 43
    }
   ],
   "metadata": {}
  },
  {
   "cell_type": "code",
   "execution_count": 44,
   "source": [
    "alns = getRecordAlignments('../data/sequences.fasta.aln')\n",
    "azo = getRecordAlignments('../data/sequencesLongLabels.fasta')"
   ],
   "outputs": [],
   "metadata": {}
  },
  {
   "cell_type": "code",
   "execution_count": 56,
   "source": [
    "azo['001'][108:118]"
   ],
   "outputs": [
    {
     "output_type": "execute_result",
     "data": {
      "text/plain": [
       "['F', 'L', 'E', 'E', 'E', 'G', 'A', 'Y', 'S', 'D']"
      ]
     },
     "metadata": {},
     "execution_count": 56
    }
   ],
   "metadata": {}
  },
  {
   "cell_type": "code",
   "execution_count": 57,
   "source": [
    "print(alns['001'][193:203])"
   ],
   "outputs": [
    {
     "output_type": "stream",
     "name": "stdout",
     "text": [
      "['F', 'L', 'E', 'E', 'E', 'G', 'A', 'Y', 'S', 'D']\n"
     ]
    }
   ],
   "metadata": {}
  },
  {
   "cell_type": "code",
   "execution_count": 2,
   "source": [
    "from collections import defaultdict\n",
    "import pandas as pd\n",
    "from Bio import SearchIO, SeqIO\n",
    "\n",
    "hmmout = '../sout.txt'\n",
    "hitsout = 'hits.fasta'\n",
    "pepite_db = '/home/robaina/cleangenomes/results/Marref_V6.faa'\n",
    "\n",
    "attribs = ['id', 'bias', 'bitscore', 'description']\n",
    "hits = defaultdict(list)\n",
    "\n",
    "with open(hmmout) as handle:\n",
    "    for queryresult in SearchIO.parse(handle, 'hmmer3-tab'):\n",
    "      for hit in queryresult.hits:\n",
    "        for attrib in attribs:\n",
    "          hits[attrib].append(getattr(hit, attrib))\n",
    "\n",
    "hits_df = pd.DataFrame.from_dict(hits)\n",
    "\n",
    "# Write hit fasta\n",
    "hit_records = [record for record in SeqIO.parse(pepite_db, 'fasta')\n",
    "               if record.id in hits_df.id.values]\n",
    "\n",
    "with open(hitsout, 'w') as out_handle:\n",
    "     SeqIO.write(hit_records, out_handle, 'fasta')"
   ],
   "outputs": [],
   "metadata": {}
  },
  {
   "cell_type": "code",
   "execution_count": 30,
   "source": [
    "from Bio import SeqIO\n",
    "\n",
    "input_fasta = '/home/robaina/cleangenomes/results/Marref_V6.fasta'\n",
    "\n",
    "hit_records = [record for record in SeqIO.parse(input_fasta, 'fasta')\n",
    "               if record.id in hits_df.id.values]\n",
    "\n",
    "with open('hits.fasta', 'w') as out_handle:\n",
    "    # for record in SeqIO.parse(input_fasta, 'fasta'):\n",
    "    #     if record.id in hits_df.id.values:\n",
    "     SeqIO.write(hit_records, out_handle, 'fasta')\n",
    "\n",
    "# SeqIO.write(selected_seqs, out_handle, \"fasta\")"
   ],
   "outputs": [],
   "metadata": {}
  },
  {
   "cell_type": "code",
   "execution_count": 6,
   "source": [
    "from Bio import AlignIO\n",
    "\n",
    "# Phylip format requires labels of max 10 characters, hence the problem.\n",
    "\n",
    "input_fasta_aln = '../data/nxr/mardb_proteins_V6_TIGR015180.1.fasta_trimal.aln'\n",
    "output_file = '../data/nxr/mardb_proteins_V6_TIGR015180.1.phylip'\n",
    "\n",
    "\n",
    "with open(input_fasta_aln, 'r') as input_handle, open(output_file, 'w') as output_handle:\n",
    "    alignments = AlignIO.parse(input_handle, 'fasta')\n",
    "    AlignIO.write(alignments, output_handle, 'phylip')"
   ],
   "outputs": [
    {
     "output_type": "error",
     "ename": "ValueError",
     "evalue": "Repeated name 'GCA_003230' (originally 'GCA_003230455.1_01774_MMP09240198'), possibly due to truncation",
     "traceback": [
      "\u001b[0;31m---------------------------------------------------------------------------\u001b[0m",
      "\u001b[0;31mValueError\u001b[0m                                Traceback (most recent call last)",
      "\u001b[0;32m<ipython-input-6-42d761c033a4>\u001b[0m in \u001b[0;36m<module>\u001b[0;34m\u001b[0m\n\u001b[1;32m      7\u001b[0m \u001b[0;32mwith\u001b[0m \u001b[0mopen\u001b[0m\u001b[0;34m(\u001b[0m\u001b[0minput_fasta_aln\u001b[0m\u001b[0;34m,\u001b[0m \u001b[0;34m'r'\u001b[0m\u001b[0;34m)\u001b[0m \u001b[0;32mas\u001b[0m \u001b[0minput_handle\u001b[0m\u001b[0;34m,\u001b[0m \u001b[0mopen\u001b[0m\u001b[0;34m(\u001b[0m\u001b[0moutput_file\u001b[0m\u001b[0;34m,\u001b[0m \u001b[0;34m'w'\u001b[0m\u001b[0;34m)\u001b[0m \u001b[0;32mas\u001b[0m \u001b[0moutput_handle\u001b[0m\u001b[0;34m:\u001b[0m\u001b[0;34m\u001b[0m\u001b[0;34m\u001b[0m\u001b[0m\n\u001b[1;32m      8\u001b[0m     \u001b[0malignments\u001b[0m \u001b[0;34m=\u001b[0m \u001b[0mAlignIO\u001b[0m\u001b[0;34m.\u001b[0m\u001b[0mparse\u001b[0m\u001b[0;34m(\u001b[0m\u001b[0minput_handle\u001b[0m\u001b[0;34m,\u001b[0m \u001b[0;34m'fasta'\u001b[0m\u001b[0;34m)\u001b[0m\u001b[0;34m\u001b[0m\u001b[0;34m\u001b[0m\u001b[0m\n\u001b[0;32m----> 9\u001b[0;31m     \u001b[0mAlignIO\u001b[0m\u001b[0;34m.\u001b[0m\u001b[0mwrite\u001b[0m\u001b[0;34m(\u001b[0m\u001b[0malignments\u001b[0m\u001b[0;34m,\u001b[0m \u001b[0moutput_handle\u001b[0m\u001b[0;34m,\u001b[0m \u001b[0;34m'phylip'\u001b[0m\u001b[0;34m)\u001b[0m\u001b[0;34m\u001b[0m\u001b[0;34m\u001b[0m\u001b[0m\n\u001b[0m",
      "\u001b[0;32m~/.local/lib/python3.8/site-packages/Bio/AlignIO/__init__.py\u001b[0m in \u001b[0;36mwrite\u001b[0;34m(alignments, handle, format)\u001b[0m\n\u001b[1;32m    217\u001b[0m         \u001b[0;32mif\u001b[0m \u001b[0mformat\u001b[0m \u001b[0;32min\u001b[0m \u001b[0m_FormatToWriter\u001b[0m\u001b[0;34m:\u001b[0m\u001b[0;34m\u001b[0m\u001b[0;34m\u001b[0m\u001b[0m\n\u001b[1;32m    218\u001b[0m             \u001b[0mwriter_class\u001b[0m \u001b[0;34m=\u001b[0m \u001b[0m_FormatToWriter\u001b[0m\u001b[0;34m[\u001b[0m\u001b[0mformat\u001b[0m\u001b[0;34m]\u001b[0m\u001b[0;34m\u001b[0m\u001b[0;34m\u001b[0m\u001b[0m\n\u001b[0;32m--> 219\u001b[0;31m             \u001b[0mcount\u001b[0m \u001b[0;34m=\u001b[0m \u001b[0mwriter_class\u001b[0m\u001b[0;34m(\u001b[0m\u001b[0mfp\u001b[0m\u001b[0;34m)\u001b[0m\u001b[0;34m.\u001b[0m\u001b[0mwrite_file\u001b[0m\u001b[0;34m(\u001b[0m\u001b[0malignments\u001b[0m\u001b[0;34m)\u001b[0m\u001b[0;34m\u001b[0m\u001b[0;34m\u001b[0m\u001b[0m\n\u001b[0m\u001b[1;32m    220\u001b[0m         \u001b[0;32melif\u001b[0m \u001b[0mformat\u001b[0m \u001b[0;32min\u001b[0m \u001b[0mSeqIO\u001b[0m\u001b[0;34m.\u001b[0m\u001b[0m_FormatToWriter\u001b[0m\u001b[0;34m:\u001b[0m\u001b[0;34m\u001b[0m\u001b[0;34m\u001b[0m\u001b[0m\n\u001b[1;32m    221\u001b[0m             \u001b[0;31m# Exploit the existing SeqIO parser to do the dirty work!\u001b[0m\u001b[0;34m\u001b[0m\u001b[0;34m\u001b[0m\u001b[0;34m\u001b[0m\u001b[0m\n",
      "\u001b[0;32m~/.local/lib/python3.8/site-packages/Bio/AlignIO/Interfaces.py\u001b[0m in \u001b[0;36mwrite_file\u001b[0;34m(self, alignments)\u001b[0m\n\u001b[1;32m    127\u001b[0m         \u001b[0mcount\u001b[0m \u001b[0;34m=\u001b[0m \u001b[0;36m0\u001b[0m\u001b[0;34m\u001b[0m\u001b[0;34m\u001b[0m\u001b[0m\n\u001b[1;32m    128\u001b[0m         \u001b[0;32mfor\u001b[0m \u001b[0malignment\u001b[0m \u001b[0;32min\u001b[0m \u001b[0malignments\u001b[0m\u001b[0;34m:\u001b[0m\u001b[0;34m\u001b[0m\u001b[0;34m\u001b[0m\u001b[0m\n\u001b[0;32m--> 129\u001b[0;31m             \u001b[0mself\u001b[0m\u001b[0;34m.\u001b[0m\u001b[0mwrite_alignment\u001b[0m\u001b[0;34m(\u001b[0m\u001b[0malignment\u001b[0m\u001b[0;34m)\u001b[0m\u001b[0;34m\u001b[0m\u001b[0;34m\u001b[0m\u001b[0m\n\u001b[0m\u001b[1;32m    130\u001b[0m             \u001b[0mcount\u001b[0m \u001b[0;34m+=\u001b[0m \u001b[0;36m1\u001b[0m\u001b[0;34m\u001b[0m\u001b[0;34m\u001b[0m\u001b[0m\n\u001b[1;32m    131\u001b[0m         \u001b[0mself\u001b[0m\u001b[0;34m.\u001b[0m\u001b[0mwrite_footer\u001b[0m\u001b[0;34m(\u001b[0m\u001b[0;34m)\u001b[0m\u001b[0;34m\u001b[0m\u001b[0;34m\u001b[0m\u001b[0m\n",
      "\u001b[0;32m~/.local/lib/python3.8/site-packages/Bio/AlignIO/PhylipIO.py\u001b[0m in \u001b[0;36mwrite_alignment\u001b[0;34m(self, alignment, id_width)\u001b[0m\n\u001b[1;32m     98\u001b[0m             \u001b[0mname\u001b[0m \u001b[0;34m=\u001b[0m \u001b[0msanitize_name\u001b[0m\u001b[0;34m(\u001b[0m\u001b[0mrecord\u001b[0m\u001b[0;34m.\u001b[0m\u001b[0mid\u001b[0m\u001b[0;34m,\u001b[0m \u001b[0mid_width\u001b[0m\u001b[0;34m)\u001b[0m\u001b[0;34m\u001b[0m\u001b[0;34m\u001b[0m\u001b[0m\n\u001b[1;32m     99\u001b[0m             \u001b[0;32mif\u001b[0m \u001b[0mname\u001b[0m \u001b[0;32min\u001b[0m \u001b[0mnames\u001b[0m\u001b[0;34m:\u001b[0m\u001b[0;34m\u001b[0m\u001b[0;34m\u001b[0m\u001b[0m\n\u001b[0;32m--> 100\u001b[0;31m                 raise ValueError(\n\u001b[0m\u001b[1;32m    101\u001b[0m                     \u001b[0;34m\"Repeated name %r (originally %r), possibly due to truncation\"\u001b[0m\u001b[0;34m\u001b[0m\u001b[0;34m\u001b[0m\u001b[0m\n\u001b[1;32m    102\u001b[0m                     \u001b[0;34m%\u001b[0m \u001b[0;34m(\u001b[0m\u001b[0mname\u001b[0m\u001b[0;34m,\u001b[0m \u001b[0mrecord\u001b[0m\u001b[0;34m.\u001b[0m\u001b[0mid\u001b[0m\u001b[0;34m)\u001b[0m\u001b[0;34m\u001b[0m\u001b[0;34m\u001b[0m\u001b[0m\n",
      "\u001b[0;31mValueError\u001b[0m: Repeated name 'GCA_003230' (originally 'GCA_003230455.1_01774_MMP09240198'), possibly due to truncation"
     ]
    }
   ],
   "metadata": {}
  },
  {
   "cell_type": "code",
   "execution_count": 5,
   "source": [
    "alns = list(alignments)\n",
    "alns"
   ],
   "outputs": [
    {
     "output_type": "execute_result",
     "data": {
      "text/plain": [
       "[]"
      ]
     },
     "metadata": {},
     "execution_count": 5
    }
   ],
   "metadata": {}
  },
  {
   "cell_type": "code",
   "execution_count": null,
   "source": [],
   "outputs": [],
   "metadata": {}
  }
 ],
 "metadata": {
  "orig_nbformat": 4,
  "language_info": {
   "name": "python",
   "version": "3.8.10",
   "mimetype": "text/x-python",
   "codemirror_mode": {
    "name": "ipython",
    "version": 3
   },
   "pygments_lexer": "ipython3",
   "nbconvert_exporter": "python",
   "file_extension": ".py"
  },
  "kernelspec": {
   "name": "python3",
   "display_name": "Python 3.8.10 64-bit"
  },
  "interpreter": {
   "hash": "916dbcbb3f70747c44a77c7bcd40155683ae19c65e1c03b4aa3499c5328201f1"
  }
 },
 "nbformat": 4,
 "nbformat_minor": 2
}