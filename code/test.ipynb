{
 "cells": [
  {
   "cell_type": "code",
   "execution_count": 43,
   "source": [
    "records = SeqIO.parse('../data/sequences.fasta.aln', 'fasta')\n",
    "np.unique([len(list(r.seq)) for r in records])"
   ],
   "outputs": [
    {
     "output_type": "execute_result",
     "data": {
      "text/plain": [
       "array([414])"
      ]
     },
     "metadata": {},
     "execution_count": 43
    }
   ],
   "metadata": {}
  },
  {
   "cell_type": "code",
   "execution_count": 44,
   "source": [
    "alns = getRecordAlignments('../data/sequences.fasta.aln')\n",
    "azo = getRecordAlignments('../data/sequencesLongLabels.fasta')"
   ],
   "outputs": [],
   "metadata": {}
  },
  {
   "cell_type": "code",
   "execution_count": 56,
   "source": [
    "azo['001'][108:118]"
   ],
   "outputs": [
    {
     "output_type": "execute_result",
     "data": {
      "text/plain": [
       "['F', 'L', 'E', 'E', 'E', 'G', 'A', 'Y', 'S', 'D']"
      ]
     },
     "metadata": {},
     "execution_count": 56
    }
   ],
   "metadata": {}
  },
  {
   "cell_type": "code",
   "execution_count": 57,
   "source": [
    "print(alns['001'][193:203])"
   ],
   "outputs": [
    {
     "output_type": "stream",
     "name": "stdout",
     "text": [
      "['F', 'L', 'E', 'E', 'E', 'G', 'A', 'Y', 'S', 'D']\n"
     ]
    }
   ],
   "metadata": {}
  },
  {
   "cell_type": "code",
   "execution_count": 2,
   "source": [
    "from collections import defaultdict\n",
    "import pandas as pd\n",
    "from Bio import SearchIO, SeqIO\n",
    "\n",
    "hmmout = '../sout.txt'\n",
    "hitsout = 'hits.fasta'\n",
    "pepite_db = '/home/robaina/cleangenomes/results/Marref_V6.faa'\n",
    "\n",
    "attribs = ['id', 'bias', 'bitscore', 'description']\n",
    "hits = defaultdict(list)\n",
    "\n",
    "with open(hmmout) as handle:\n",
    "    for queryresult in SearchIO.parse(handle, 'hmmer3-tab'):\n",
    "      for hit in queryresult.hits:\n",
    "        for attrib in attribs:\n",
    "          hits[attrib].append(getattr(hit, attrib))\n",
    "\n",
    "hits_df = pd.DataFrame.from_dict(hits)\n",
    "\n",
    "# Write hit fasta\n",
    "hit_records = [record for record in SeqIO.parse(pepite_db, 'fasta')\n",
    "               if record.id in hits_df.id.values]\n",
    "\n",
    "with open(hitsout, 'w') as out_handle:\n",
    "     SeqIO.write(hit_records, out_handle, 'fasta')"
   ],
   "outputs": [],
   "metadata": {}
  },
  {
   "cell_type": "code",
   "execution_count": 30,
   "source": [
    "from Bio import SeqIO\n",
    "\n",
    "input_fasta = '/home/robaina/cleangenomes/results/Marref_V6.fasta'\n",
    "\n",
    "hit_records = [record for record in SeqIO.parse(input_fasta, 'fasta')\n",
    "               if record.id in hits_df.id.values]\n",
    "\n",
    "with open('hits.fasta', 'w') as out_handle:\n",
    "    # for record in SeqIO.parse(input_fasta, 'fasta'):\n",
    "    #     if record.id in hits_df.id.values:\n",
    "     SeqIO.write(hit_records, out_handle, 'fasta')\n",
    "\n",
    "# SeqIO.write(selected_seqs, out_handle, \"fasta\")"
   ],
   "outputs": [],
   "metadata": {}
  },
  {
   "cell_type": "code",
   "execution_count": 5,
   "source": [
    "import os\n",
    "\n",
    "os.path.splitext('/home/robaina/cleangenomes/results/Marref_V6.fasta')"
   ],
   "outputs": [
    {
     "output_type": "execute_result",
     "data": {
      "text/plain": [
       "('/home/robaina/cleangenomes/results/Marref_V6', '.fasta')"
      ]
     },
     "metadata": {},
     "execution_count": 5
    }
   ],
   "metadata": {}
  }
 ],
 "metadata": {
  "orig_nbformat": 4,
  "language_info": {
   "name": "python",
   "version": "3.8.10",
   "mimetype": "text/x-python",
   "codemirror_mode": {
    "name": "ipython",
    "version": 3
   },
   "pygments_lexer": "ipython3",
   "nbconvert_exporter": "python",
   "file_extension": ".py"
  },
  "kernelspec": {
   "name": "python3",
   "display_name": "Python 3.8.10 64-bit"
  },
  "interpreter": {
   "hash": "916dbcbb3f70747c44a77c7bcd40155683ae19c65e1c03b4aa3499c5328201f1"
  }
 },
 "nbformat": 4,
 "nbformat_minor": 2
}