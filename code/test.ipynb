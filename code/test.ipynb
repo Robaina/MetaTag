{
 "cells": [
  {
   "cell_type": "code",
   "execution_count": 1,
   "source": [
    "import os\n",
    "import sys\n",
    "from Bio import SeqIO\n",
    "\n",
    "\n",
    "def getnifHclusterID(seq: list) -> str:\n",
    "    \"\"\"\n",
    "    Assign cluster to nifH sequence based on CART model in\n",
    "    https://sfamjournals.onlinelibrary.wiley.com/doi/10.1111/1758-2229.12455\n",
    "    \"\"\"\n",
    "    CART = {\n",
    "        109: ['F', 'W', 'Y'],\n",
    "        49: ['A', 'D', 'I'],\n",
    "        53: ['L', 'M', 'W']\n",
    "    }\n",
    "    aa_pos = list(CART.keys())\n",
    "    if len(seq) < max(aa_pos):\n",
    "        return '0'\n",
    "    if seq[aa_pos[0] - 1] in CART[aa_pos[0]]:\n",
    "        return 'I'\n",
    "    elif seq[aa_pos[1] - 1] in CART[aa_pos[1]]:\n",
    "        return 'II'\n",
    "    elif seq[aa_pos[2] - 1] in CART[aa_pos[2]]:\n",
    "        return 'III'\n",
    "    else:\n",
    "        return 'IV'\n",
    "\n",
    "def getRecordAlignments(input_alignment: str) -> dict:\n",
    "    \"\"\"\n",
    "    Get dict of lists containing sequence alignments\n",
    "    \"\"\"\n",
    "    with open(input_alignment) as inalign:\n",
    "        return {\n",
    "            record.id.split('_')[0]: list(record.seq)\n",
    "            for record in SeqIO.parse(inalign, 'fasta')\n",
    "        }\n",
    "\n",
    "def addClusterToNifH(input_fasta: str, input_alignment: str,\n",
    "                     output_fasta: str = None) -> None:\n",
    "    \"\"\"\n",
    "    Add assigned cluster to nifH sequences in fasta file\n",
    "    \"\"\"\n",
    "    input_fasta = os.path.abspath(input_fasta)\n",
    "    input_alignment = os.path.abspath(input_alignment)\n",
    "    recordAligns = getRecordAlignments(input_alignment)\n",
    "\n",
    "    if output_fasta is None:\n",
    "        base, ext = os.path.splitext(input_fasta)\n",
    "        output_fasta = f'{base}_clustered{ext}'\n",
    "    else:\n",
    "        output_fasta = os.path.abspath(output_fasta)\n",
    "\n",
    "    with open(input_fasta) as infasta, open(output_fasta, 'w') as outfasta:\n",
    "        for record in SeqIO.parse(infasta, 'fasta'):\n",
    "            record_align_seq = recordAligns[record.id.split('_')[0]]\n",
    "            cluster_id = getnifHclusterID(record_align_seq)\n",
    "            record.id = f'{record.id}_cluster_{cluster_id}'\n",
    "            record.name = ''\n",
    "            record.description = ''\n",
    "            SeqIO.write(record, outfasta, 'fasta')"
   ],
   "outputs": [],
   "metadata": {}
  },
  {
   "cell_type": "code",
   "execution_count": 7,
   "source": [
    "addClusterToNifH(input_fasta='../data/sequencesLongLabels.fasta',\n",
    "                 input_alignment='../data/sequences.fasta.aln')"
   ],
   "outputs": [],
   "metadata": {}
  },
  {
   "cell_type": "code",
   "execution_count": 2,
   "source": [
    "\"\"\"\n",
    "WP_039801084 should be of type I\n",
    "\"\"\"\n",
    "alns = getRecordAlignments('../data/sequences.fasta.aln')"
   ],
   "outputs": [],
   "metadata": {}
  },
  {
   "cell_type": "code",
   "execution_count": 11,
   "source": [
    "getnifHclusterID(alns['001'])"
   ],
   "outputs": [
    {
     "output_type": "execute_result",
     "data": {
      "text/plain": [
       "'IV'"
      ]
     },
     "metadata": {},
     "execution_count": 11
    }
   ],
   "metadata": {}
  },
  {
   "cell_type": "code",
   "execution_count": 9,
   "source": [
    "azo = getRecordAlignments('../data/sequencesLongLabels.fasta')\n",
    "print(azo['001'])"
   ],
   "outputs": [
    {
     "output_type": "stream",
     "name": "stdout",
     "text": [
      "['M', 'A', 'L', 'R', 'Q', 'C', 'A', 'I', 'Y', 'G', 'K', 'G', 'G', 'I', 'G', 'K', 'S', 'T', 'T', 'T', 'Q', 'N', 'L', 'V', 'A', 'A', 'L', 'A', 'E', 'A', 'G', 'K', 'K', 'V', 'M', 'I', 'V', 'G', 'C', 'D', 'P', 'K', 'A', 'D', 'S', 'T', 'R', 'L', 'I', 'L', 'H', 'S', 'K', 'A', 'Q', 'N', 'T', 'V', 'M', 'E', 'M', 'A', 'A', 'S', 'A', 'G', 'S', 'V', 'E', 'D', 'L', 'E', 'L', 'E', 'D', 'V', 'L', 'Q', 'I', 'G', 'Y', 'G', 'G', 'V', 'K', 'C', 'V', 'E', 'S', 'G', 'G', 'P', 'E', 'P', 'G', 'V', 'G', 'C', 'A', 'G', 'R', 'G', 'V', 'I', 'T', 'A', 'I', 'N', 'F', 'L', 'E', 'E', 'E', 'G', 'A', 'Y', 'S', 'D', 'D', 'L', 'D', 'F', 'V', 'F', 'Y', 'D', 'V', 'L', 'G', 'D', 'V', 'V', 'C', 'G', 'G', 'F', 'A', 'M', 'P', 'I', 'R', 'E', 'N', 'K', 'A', 'Q', 'E', 'I', 'Y', 'I', 'V', 'C', 'S', 'G', 'E', 'M', 'M', 'A', 'M', 'Y', 'A', 'A', 'N', 'N', 'I', 'A', 'K', 'G', 'I', 'V', 'K', 'Y', 'A', 'H', 'S', 'G', 'S', 'V', 'R', 'L', 'G', 'G', 'L', 'I', 'C', 'N', 'S', 'R', 'K', 'T', 'D', 'R', 'E', 'D', 'E', 'L', 'I', 'M', 'A', 'L', 'A', 'A', 'K', 'I', 'G', 'T', 'Q', 'M', 'I', 'H', 'F', 'V', 'P', 'R', 'D', 'N', 'V', 'V', 'Q', 'H', 'A', 'E', 'I', 'R', 'R', 'M', 'T', 'V', 'I', 'E', 'Y', 'D', 'P', 'K', 'A', 'K', 'Q', 'A', 'D', 'E', 'Y', 'R', 'A', 'L', 'A', 'Q', 'K', 'I', 'L', 'N', 'N', 'K', 'L', 'L', 'V', 'I', 'P', 'N', 'P', 'A', 'S', 'M', 'E', 'D', 'L', 'E', 'E', 'L', 'L', 'M', 'E', 'F', 'G', 'I', 'M', 'E', 'A', 'E', 'D', 'E', 'S', 'I', 'V', 'G', 'K', 'A', 'A', 'A', 'E', 'G']\n"
     ]
    }
   ],
   "metadata": {}
  },
  {
   "cell_type": "code",
   "execution_count": 17,
   "source": [
    "azo['001'][108]"
   ],
   "outputs": [
    {
     "output_type": "execute_result",
     "data": {
      "text/plain": [
       "'F'"
      ]
     },
     "metadata": {},
     "execution_count": 17
    }
   ],
   "metadata": {}
  },
  {
   "cell_type": "code",
   "execution_count": 13,
   "source": [
    "azo['001'][100:110]"
   ],
   "outputs": [
    {
     "output_type": "execute_result",
     "data": {
      "text/plain": [
       "['R', 'G', 'V', 'I', 'T', 'A', 'I', 'N', 'F', 'L']"
      ]
     },
     "metadata": {},
     "execution_count": 13
    }
   ],
   "metadata": {}
  },
  {
   "cell_type": "code",
   "execution_count": 20,
   "source": [
    "print(alns['001'][108 + 85])"
   ],
   "outputs": [
    {
     "output_type": "stream",
     "name": "stdout",
     "text": [
      "F\n"
     ]
    }
   ],
   "metadata": {}
  },
  {
   "cell_type": "code",
   "execution_count": 8,
   "source": [
    "alns['001'][107]"
   ],
   "outputs": [
    {
     "output_type": "execute_result",
     "data": {
      "text/plain": [
       "'A'"
      ]
     },
     "metadata": {},
     "execution_count": 8
    }
   ],
   "metadata": {}
  },
  {
   "cell_type": "code",
   "execution_count": null,
   "source": [],
   "outputs": [],
   "metadata": {}
  }
 ],
 "metadata": {
  "orig_nbformat": 4,
  "language_info": {
   "name": "python",
   "version": "3.8.10",
   "mimetype": "text/x-python",
   "codemirror_mode": {
    "name": "ipython",
    "version": 3
   },
   "pygments_lexer": "ipython3",
   "nbconvert_exporter": "python",
   "file_extension": ".py"
  },
  "kernelspec": {
   "name": "python3",
   "display_name": "Python 3.8.10 64-bit"
  },
  "interpreter": {
   "hash": "916dbcbb3f70747c44a77c7bcd40155683ae19c65e1c03b4aa3499c5328201f1"
  }
 },
 "nbformat": 4,
 "nbformat_minor": 2
}